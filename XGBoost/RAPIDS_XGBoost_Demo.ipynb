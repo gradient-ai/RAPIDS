{
 "cells": [
  {
   "cell_type": "code",
   "execution_count": null,
   "id": "08005e3b-b6ee-4aec-8300-d0fc4185dd89",
   "metadata": {
    "gradient": {
     "source_hidden": false
    }
   },
   "outputs": [
    {
     "name": "stdout",
     "output_type": "stream",
     "text": [
      "Tue Apr 27 21:33:27 2021       \n",
      "+-----------------------------------------------------------------------------+\n",
      "| NVIDIA-SMI 450.36.06    Driver Version: 450.36.06    CUDA Version: 11.0     |\n",
      "|-------------------------------+----------------------+----------------------+\n",
      "| GPU  Name        Persistence-M| Bus-Id        Disp.A | Volatile Uncorr. ECC |\n",
      "| Fan  Temp  Perf  Pwr:Usage/Cap|         Memory-Usage | GPU-Util  Compute M. |\n",
      "|                               |                      |               MIG M. |\n",
      "|===============================+======================+======================|\n",
      "|   0  Quadro P5000        On   | 00000000:00:05.0 Off |                  Off |\n",
      "| 26%   26C    P8     5W / 180W |    539MiB / 16278MiB |      0%      Default |\n",
      "|                               |                      |                  N/A |\n",
      "+-------------------------------+----------------------+----------------------+\n",
      "                                                                               \n",
      "+-----------------------------------------------------------------------------+\n",
      "| Processes:                                                                  |\n",
      "|  GPU   GI   CI        PID   Type   Process name                  GPU Memory |\n",
      "|        ID   ID                                                   Usage      |\n",
      "|=============================================================================|\n",
      "+-----------------------------------------------------------------------------+\n",
      "WARNING: infoROM is corrupted at gpu 0000:00:05.0\n"
     ]
    }
   ],
   "source": [
    "!nvidia-smi"
   ]
  },
  {
   "cell_type": "code",
   "execution_count": null,
   "id": "b7dd9292-47ab-4243-bd6b-8fe574b0b310",
   "metadata": {
    "gradient": {
     "source_hidden": false
    }
   },
   "outputs": [],
   "source": [
    "import cudf\n",
    "import pandas as pd\n",
    "\n",
    "import pynvml\n",
    "import numpy as np\n",
    "import xgboost as xgb\n",
    "\n",
    "\n",
    "#load data from skl, then split it into testing and training data\n",
    "## Load data\n",
    "from sklearn.datasets import load_boston\n",
    "boston = load_boston()\n",
    "pdata = pd.DataFrame(boston.data)\n",
    "data = cudf.from_pandas(pdata)\n",
    "\n",
    "## spliting training and test set\n",
    "from cuml import train_test_split\n",
    "X, y = data.iloc[:,:-1],data.iloc[:,12]\n",
    "X_train, X_test, y_train, y_test = train_test_split(X, y, test_size=0.2, random_state=123)\n"
   ]
  },
  {
   "cell_type": "code",
   "execution_count": null,
   "id": "dc41d5b6-f01b-4590-b1b1-e6e40b4533ad",
   "metadata": {
    "gradient": {
     "source_hidden": false
    }
   },
   "outputs": [
    {
     "name": "stdout",
     "output_type": "stream",
     "text": [
      "[21:33:53] WARNING: /opt/conda/envs/rapids/conda-bld/xgboost_1614190077837/work/src/objective/regression_obj.cu:170: reg:linear is now deprecated in favor of reg:squarederror.\n",
      "[21:33:53] WARNING: /opt/conda/envs/rapids/conda-bld/xgboost_1614190077837/work/src/learner.cc:541: \n",
      "Parameters: { n_estimators, silent, verbose_eval } might not be used.\n",
      "\n",
      "  This may not be accurate due to some parameters are only used in language bindings but\n",
      "  passed down to XGBoost core.  Or some parameters are not used but slip through this\n",
      "  verification. Please open an issue if you find above cases.\n",
      "\n",
      "\n",
      "[0]\ttrain-rmse:13.05431\n",
      "[1]\ttrain-rmse:11.99486\n",
      "[2]\ttrain-rmse:11.02320\n",
      "[3]\ttrain-rmse:10.16367\n",
      "[4]\ttrain-rmse:9.43491\n",
      "[5]\ttrain-rmse:8.76963\n",
      "[6]\ttrain-rmse:8.14944\n",
      "[7]\ttrain-rmse:7.65820\n",
      "[8]\ttrain-rmse:7.17507\n",
      "[9]\ttrain-rmse:6.75006\n",
      "[10]\ttrain-rmse:6.28497\n",
      "[11]\ttrain-rmse:5.98897\n",
      "[12]\ttrain-rmse:5.69295\n",
      "[13]\ttrain-rmse:5.43501\n",
      "[14]\ttrain-rmse:5.23405\n",
      "[15]\ttrain-rmse:5.07206\n",
      "[16]\ttrain-rmse:4.90242\n",
      "[17]\ttrain-rmse:4.64685\n",
      "[18]\ttrain-rmse:4.50703\n",
      "[19]\ttrain-rmse:4.42126\n",
      "[20]\ttrain-rmse:4.32097\n",
      "[21]\ttrain-rmse:4.18370\n",
      "[22]\ttrain-rmse:4.01280\n",
      "[23]\ttrain-rmse:3.90557\n",
      "[24]\ttrain-rmse:3.77265\n",
      "[25]\ttrain-rmse:3.65751\n",
      "[26]\ttrain-rmse:3.59657\n",
      "[27]\ttrain-rmse:3.51963\n",
      "[28]\ttrain-rmse:3.47486\n",
      "[29]\ttrain-rmse:3.41567\n",
      "[30]\ttrain-rmse:3.38106\n",
      "[31]\ttrain-rmse:3.30086\n",
      "[32]\ttrain-rmse:3.29167\n",
      "[33]\ttrain-rmse:3.27853\n",
      "[34]\ttrain-rmse:3.24881\n",
      "[35]\ttrain-rmse:3.18027\n",
      "[36]\ttrain-rmse:3.12534\n",
      "[37]\ttrain-rmse:3.09931\n",
      "[38]\ttrain-rmse:3.04354\n",
      "[39]\ttrain-rmse:3.03299\n",
      "[40]\ttrain-rmse:3.00710\n",
      "[41]\ttrain-rmse:2.96687\n",
      "[42]\ttrain-rmse:2.92528\n",
      "[43]\ttrain-rmse:2.89938\n",
      "[44]\ttrain-rmse:2.86631\n",
      "[45]\ttrain-rmse:2.84505\n",
      "[46]\ttrain-rmse:2.81043\n",
      "[47]\ttrain-rmse:2.77127\n",
      "[48]\ttrain-rmse:2.74025\n",
      "[49]\ttrain-rmse:2.70866\n",
      "[50]\ttrain-rmse:2.68446\n",
      "[51]\ttrain-rmse:2.66070\n",
      "[52]\ttrain-rmse:2.64769\n",
      "[53]\ttrain-rmse:2.62204\n",
      "[54]\ttrain-rmse:2.60869\n",
      "[55]\ttrain-rmse:2.56835\n",
      "[56]\ttrain-rmse:2.54217\n",
      "[57]\ttrain-rmse:2.52070\n",
      "[58]\ttrain-rmse:2.50785\n",
      "[59]\ttrain-rmse:2.50577\n",
      "[60]\ttrain-rmse:2.47786\n",
      "[61]\ttrain-rmse:2.44902\n",
      "[62]\ttrain-rmse:2.44097\n",
      "[63]\ttrain-rmse:2.42746\n",
      "[64]\ttrain-rmse:2.41319\n",
      "[65]\ttrain-rmse:2.38540\n",
      "[66]\ttrain-rmse:2.38257\n",
      "[67]\ttrain-rmse:2.37128\n",
      "[68]\ttrain-rmse:2.35622\n",
      "[69]\ttrain-rmse:2.35364\n",
      "[70]\ttrain-rmse:2.34308\n",
      "[71]\ttrain-rmse:2.32442\n",
      "[72]\ttrain-rmse:2.30573\n",
      "[73]\ttrain-rmse:2.29295\n",
      "[74]\ttrain-rmse:2.29151\n",
      "[75]\ttrain-rmse:2.25829\n",
      "[76]\ttrain-rmse:2.24681\n",
      "[77]\ttrain-rmse:2.23377\n",
      "[78]\ttrain-rmse:2.22317\n",
      "[79]\ttrain-rmse:2.20368\n",
      "[80]\ttrain-rmse:2.17625\n",
      "[81]\ttrain-rmse:2.16103\n",
      "[82]\ttrain-rmse:2.14300\n",
      "[83]\ttrain-rmse:2.13366\n",
      "[84]\ttrain-rmse:2.12821\n",
      "[85]\ttrain-rmse:2.12246\n",
      "[86]\ttrain-rmse:2.11233\n",
      "[87]\ttrain-rmse:2.10130\n",
      "[88]\ttrain-rmse:2.08696\n",
      "[89]\ttrain-rmse:2.07395\n",
      "[90]\ttrain-rmse:2.06132\n",
      "[91]\ttrain-rmse:2.05457\n",
      "[92]\ttrain-rmse:2.04617\n",
      "[93]\ttrain-rmse:2.02941\n",
      "[94]\ttrain-rmse:2.01867\n",
      "[95]\ttrain-rmse:2.01504\n",
      "[96]\ttrain-rmse:2.00731\n",
      "[97]\ttrain-rmse:2.00223\n",
      "[98]\ttrain-rmse:1.99812\n",
      "[99]\ttrain-rmse:1.99364\n"
     ]
    }
   ],
   "source": [
    "# XGBoost Time!\n",
    "## Create train and test dmatrix\n",
    "dtrain = xgb.DMatrix(\n",
    "        X_train,\n",
    "        y_train    )\n",
    "\n",
    "dtest = xgb.DMatrix(\n",
    "        X_test,\n",
    "        y_test    )\n",
    "\n",
    "## Train the model\n",
    "trained_model = xgb.train(\n",
    "                        {\n",
    "                          'learning_rate': 0.1,\n",
    "                          'colsample_bytree' : 0.3,\n",
    "                          'max_depth': 5,\n",
    "                          'objective': 'reg:linear',\n",
    "                          'n_estimators':10,\n",
    "                          'alpha' : 10,\n",
    "                          'silent': True,\n",
    "                          'verbose_eval': True,\n",
    "                          'tree_method':'gpu_hist',\n",
    "                        },\n",
    "                        dtrain,\n",
    "                        num_boost_round=100, evals=[(dtrain, 'train')])\n",
    "\n",
    "## Predict the model\n",
    "prediction = trained_model.predict(dtest)"
   ]
  },
  {
   "cell_type": "code",
   "execution_count": null,
   "id": "91f3500b-cf0c-496a-bdb7-02668dc58bb6",
   "metadata": {
    "gradient": {
     "source_hidden": false
    }
   },
   "outputs": [
    {
     "name": "stdout",
     "output_type": "stream",
     "text": [
      "RMSE:  3.8080177\n"
     ]
    }
   ],
   "source": [
    "# Form and test predictions from xgboost output\n",
    "## MSE requires values be float32 \n",
    "y_test = y_test.astype(np.float32) \n",
    "\n",
    "## Test prediction wih RMSE, compare it to sklearn and pandas.  \n",
    "from cuml.metrics import mean_squared_error\n",
    "rmse = np.sqrt(mean_squared_error(y_test, prediction))\n",
    "\n",
    "## RMSE for the price prediction is per 1000$.  Let's see what we get...\n",
    "print(\"RMSE: \", rmse)"
   ]
  }
 ],
 "metadata": {
  "kernelspec": {
   "display_name": "Python 3",
   "language": "python",
   "name": "python3"
  },
  "language_info": {
   "codemirror_mode": {
    "name": "ipython",
    "version": 3
   },
   "file_extension": ".py",
   "mimetype": "text/x-python",
   "name": "python",
   "nbconvert_exporter": "python",
   "pygments_lexer": "ipython3",
   "version": "3.7.10"
  }
 },
 "nbformat": 4,
 "nbformat_minor": 5
}
