{
 "cells": [
  {
   "cell_type": "markdown",
   "metadata": {},
   "source": [
    "# Domain Generation Algorithm (DGA) Detection\n",
    "\n",
    "## Authors\n",
    " - Gorkem Batmaz (NVIDIA) [gbatmaz@nvidia.com]\n",
    " - Bhargav Suryadevara (NVIDIA) [bsuryadevara@nvidia.com]\n",
    "\n",
    "## Development Notes\n",
    "* Developed using: RAPIDS v0.12.0 and CLX v0.12\n",
    "* Last tested using: RAPIDS v0.19.0 and CLX v0.19 on May 5, 2021\n",
    "\n",
    "## Table of Contents\n",
    "* Introduction\n",
    "* Data Importing\n",
    "* Data Preprocessing\n",
    "* Training and Evaluation\n",
    "* Inference\n",
    "* Conclusion\n",
    "\n",
    "## Introduction\n",
    "[Domain Generation Algorithms](https://en.wikipedia.org/wiki/Domain_generation_algorithm) (DGAs) are used to generate domain names that can be used by the malware to communicate with the command and control servers. IP addresses and static domain names can be easily blocked, and a DGA provides an easy method to generate a large number of domain names and rotate through them to circumvent traditional block lists. We will use a type of recurrent neural network called the [Gated Recurrent Unit](https://towardsdatascience.com/illustrated-guide-to-lstms-and-gru-s-a-step-by-step-explanation-44e9eb85bf21) (GRU) for this example. The [CLX](https://github.com/rapidsai/clx) and [RAPIDS](https://rapids.ai) libraries enable users train their models with up-to-date domain names representative of both benign and DGA generated strings. Using a CLX workflow, this capability could also be used in production. This notebook provides a view into the data science workflow to create a DGA detection implementation."
   ]
  },
  {
   "cell_type": "code",
   "execution_count": 1,
   "metadata": {},
   "outputs": [],
   "source": [
    "import os\n",
    "import cudf\n",
    "import torch\n",
    "try:\n",
    "    import s3fs \n",
    "except ImportError:\n",
    "    !conda install -c conda-forge -y s3fs \n",
    "    import s3fs \n",
    "    \n",
    "try:\n",
    "    import clx\n",
    "except ImportError:\n",
    "    !conda install -c rapidsai -y clx\n",
    "    import clx\n",
    "\n",
    "import numpy as np\n",
    "from datetime import datetime\n",
    "from sklearn.metrics import accuracy_score, average_precision_score\n",
    "from clx.analytics.dga_detector import DGADetector\n",
    "from clx.utils.data.dataloader import DataLoader\n",
    "from clx.analytics.dga_dataset import DGADataset\n",
    "from cuml.preprocessing.model_selection import train_test_split"
   ]
  },
  {
   "cell_type": "markdown",
   "metadata": {},
   "source": [
    "#### Download Input Dataset from S3"
   ]
  },
  {
   "cell_type": "code",
   "execution_count": 2,
   "metadata": {},
   "outputs": [],
   "source": [
    "INPUT_CSV = \"benign_and_dga_domains.csv\"\n",
    "\n",
    "S3_BASE_PATH = \"rapidsai-data/cyber/clx\""
   ]
  },
  {
   "cell_type": "code",
   "execution_count": 3,
   "metadata": {},
   "outputs": [],
   "source": [
    "# Read Benign and DGA dataset\n",
    "if not os.path.exists(INPUT_CSV):\n",
    "    fs = s3fs.S3FileSystem(anon=True)\n",
    "    fs.get(S3_BASE_PATH + \"/\" + INPUT_CSV, INPUT_CSV)"
   ]
  },
  {
   "cell_type": "markdown",
   "metadata": {},
   "source": [
    "#### Load Input Dataset to GPU Dataframe"
   ]
  },
  {
   "cell_type": "code",
   "execution_count": 4,
   "metadata": {},
   "outputs": [],
   "source": [
    "gdf = cudf.read_csv(INPUT_CSV)"
   ]
  },
  {
   "cell_type": "code",
   "execution_count": 5,
   "metadata": {},
   "outputs": [],
   "source": [
    "train_data = gdf['domain']\n",
    "labels = gdf['type']"
   ]
  },
  {
   "cell_type": "markdown",
   "metadata": {},
   "source": [
    "Because we have only benign and DGA (malicious) categoriesm, the number of domain types need to be set to 2 (`N_DOMAIN_TYPE=2`). Vocabulary size(`CHAR_VOCAB`) is set to 128 ASCII characters. The values below set for `HIDDEN_SIZE`, `N_LAYERS` of the network, and the `LR` (Learning Rate) give an optimum balance for the network size and performance. They might need be set via experiments when working with other datasets."
   ]
  },
  {
   "cell_type": "code",
   "execution_count": 6,
   "metadata": {},
   "outputs": [],
   "source": [
    "LR = 0.001\n",
    "N_LAYERS = 3\n",
    "CHAR_VOCAB = 128\n",
    "HIDDEN_SIZE = 100\n",
    "N_DOMAIN_TYPE = 2"
   ]
  },
  {
   "cell_type": "markdown",
   "metadata": {},
   "source": [
    "#### Instantiate DGA Detector\n",
    "Now that the data is ready, the datasets are created, and we've set the parameters for the model, we can use the DGADetector method built into CLX to create and train the model."
   ]
  },
  {
   "cell_type": "code",
   "execution_count": 7,
   "metadata": {},
   "outputs": [],
   "source": [
    "dd = DGADetector(lr=LR)\n",
    "dd.init_model(n_layers=N_LAYERS, char_vocab=CHAR_VOCAB, hidden_size=HIDDEN_SIZE, n_domain_type=N_DOMAIN_TYPE)"
   ]
  },
  {
   "cell_type": "markdown",
   "metadata": {},
   "source": [
    "If you don't have a lot of time, please change EPOCHS to a smaller value.  It takes just under 1 minute per epoch on a P5000 GPU."
   ]
  },
  {
   "cell_type": "code",
   "execution_count": 8,
   "metadata": {},
   "outputs": [],
   "source": [
    "EPOCHS = 25\n",
    "TRAIN_SIZE = 0.7\n",
    "BATCH_SIZE = 10000\n",
    "MODELS_DIR = 'models'"
   ]
  },
  {
   "cell_type": "markdown",
   "metadata": {},
   "source": [
    "### Training and Evaluation\n",
    "Now we train and evaluate the model."
   ]
  },
  {
   "cell_type": "code",
   "execution_count": 9,
   "metadata": {},
   "outputs": [
    {
     "name": "stderr",
     "output_type": "stream",
     "text": [
      "\r",
      "Epoch:   0%|          | 0/25 [00:00<?, ?it/s]"
     ]
    },
    {
     "name": "stdout",
     "output_type": "stream",
     "text": [
      "[100000/1433083 (7%)]\tLoss: 6844.13\n",
      "[200000/1433083 (14%)]\tLoss: 5165.04\n",
      "[300000/1433083 (21%)]\tLoss: 4015.72\n",
      "[400000/1433083 (28%)]\tLoss: 3421.23\n",
      "[500000/1433083 (35%)]\tLoss: 3195.55\n",
      "[600000/1433083 (42%)]\tLoss: 2775.95\n",
      "[700000/1433083 (49%)]\tLoss: 2448.78\n",
      "[800000/1433083 (56%)]\tLoss: 2198.67\n",
      "[900000/1433083 (63%)]\tLoss: 2215.51\n",
      "[1000000/1433083 (70%)]\tLoss: 2117.47\n",
      "[1100000/1433083 (77%)]\tLoss: 2122.92\n",
      "[1200000/1433083 (84%)]\tLoss: 2052.55\n",
      "[1300000/1433083 (91%)]\tLoss: 2064.78\n",
      "[1400000/1433083 (98%)]\tLoss: 2102.82\n"
     ]
    },
    {
     "name": "stderr",
     "output_type": "stream",
     "text": [
      "\r",
      "Epoch:   4%|▍         | 1/25 [00:55<22:07, 55.31s/it]"
     ]
    },
    {
     "name": "stdout",
     "output_type": "stream",
     "text": [
      "Test set: Accuracy: 418521/614179 (0.6814316347514324)\n",
      "\n",
      "[100000/1433083 (7%)]\tLoss: 4007.17\n",
      "[200000/1433083 (14%)]\tLoss: 2857.22\n",
      "[300000/1433083 (21%)]\tLoss: 2123.29\n",
      "[400000/1433083 (28%)]\tLoss: 1786.49\n",
      "[500000/1433083 (35%)]\tLoss: 1567.77\n",
      "[600000/1433083 (42%)]\tLoss: 1348.97\n",
      "[700000/1433083 (49%)]\tLoss: 1184.99\n",
      "[800000/1433083 (56%)]\tLoss: 1060.50\n",
      "[900000/1433083 (63%)]\tLoss: 1023.01\n",
      "[1000000/1433083 (70%)]\tLoss: 1005.30\n",
      "[1100000/1433083 (77%)]\tLoss: 1066.97\n",
      "[1200000/1433083 (84%)]\tLoss: 1054.98\n",
      "[1300000/1433083 (91%)]\tLoss: 1089.22\n",
      "[1400000/1433083 (98%)]\tLoss: 1173.21\n"
     ]
    },
    {
     "name": "stderr",
     "output_type": "stream",
     "text": [
      "\r",
      "Epoch:   8%|▊         | 2/25 [01:49<20:57, 54.68s/it]"
     ]
    },
    {
     "name": "stdout",
     "output_type": "stream",
     "text": [
      "Test set: Accuracy: 522850/614179 (0.8512990512537876)\n",
      "\n",
      "[100000/1433083 (7%)]\tLoss: 1682.47\n",
      "[200000/1433083 (14%)]\tLoss: 1305.32\n",
      "[300000/1433083 (21%)]\tLoss: 1017.20\n",
      "[400000/1433083 (28%)]\tLoss: 879.92\n",
      "[500000/1433083 (35%)]\tLoss: 800.94\n",
      "[600000/1433083 (42%)]\tLoss: 691.64\n",
      "[700000/1433083 (49%)]\tLoss: 610.05\n",
      "[800000/1433083 (56%)]\tLoss: 549.59\n",
      "[900000/1433083 (63%)]\tLoss: 551.72\n",
      "[1000000/1433083 (70%)]\tLoss: 570.24\n",
      "[1100000/1433083 (77%)]\tLoss: 564.74\n",
      "[1200000/1433083 (84%)]\tLoss: 579.37\n",
      "[1300000/1433083 (91%)]\tLoss: 671.27\n",
      "[1400000/1433083 (98%)]\tLoss: 775.10\n"
     ]
    },
    {
     "name": "stderr",
     "output_type": "stream",
     "text": [
      "\r",
      "Epoch:  12%|█▏        | 3/25 [02:45<20:10, 55.04s/it]"
     ]
    },
    {
     "name": "stdout",
     "output_type": "stream",
     "text": [
      "Test set: Accuracy: 557450/614179 (0.9076344192816752)\n",
      "\n",
      "[100000/1433083 (7%)]\tLoss: 540.86\n",
      "[200000/1433083 (14%)]\tLoss: 622.41\n",
      "[300000/1433083 (21%)]\tLoss: 516.77\n",
      "[400000/1433083 (28%)]\tLoss: 473.83\n",
      "[500000/1433083 (35%)]\tLoss: 448.42\n",
      "[600000/1433083 (42%)]\tLoss: 390.98\n",
      "[700000/1433083 (49%)]\tLoss: 347.89\n",
      "[800000/1433083 (56%)]\tLoss: 317.02\n",
      "[900000/1433083 (63%)]\tLoss: 336.54\n",
      "[1000000/1433083 (70%)]\tLoss: 365.42\n",
      "[1100000/1433083 (77%)]\tLoss: 371.34\n",
      "[1200000/1433083 (84%)]\tLoss: 397.38\n",
      "[1300000/1433083 (91%)]\tLoss: 467.12\n",
      "[1400000/1433083 (98%)]\tLoss: 577.41\n"
     ]
    },
    {
     "name": "stderr",
     "output_type": "stream",
     "text": [
      "\r",
      "Epoch:  16%|█▌        | 4/25 [03:38<19:02, 54.42s/it]"
     ]
    },
    {
     "name": "stdout",
     "output_type": "stream",
     "text": [
      "Test set: Accuracy: 585368/614179 (0.9530902228829055)\n",
      "\n",
      "[100000/1433083 (7%)]\tLoss: 260.97\n",
      "[200000/1433083 (14%)]\tLoss: 306.66\n",
      "[300000/1433083 (21%)]\tLoss: 277.19\n",
      "[400000/1433083 (28%)]\tLoss: 275.41\n",
      "[500000/1433083 (35%)]\tLoss: 271.83\n",
      "[600000/1433083 (42%)]\tLoss: 238.33\n",
      "[700000/1433083 (49%)]\tLoss: 213.65\n",
      "[800000/1433083 (56%)]\tLoss: 196.57\n",
      "[900000/1433083 (63%)]\tLoss: 218.68\n",
      "[1000000/1433083 (70%)]\tLoss: 248.48\n",
      "[1100000/1433083 (77%)]\tLoss: 258.33\n",
      "[1200000/1433083 (84%)]\tLoss: 288.76\n",
      "[1300000/1433083 (91%)]\tLoss: 361.36\n",
      "[1400000/1433083 (98%)]\tLoss: 481.65\n"
     ]
    },
    {
     "name": "stderr",
     "output_type": "stream",
     "text": [
      "\r",
      "Epoch:  20%|██        | 5/25 [04:32<18:03, 54.18s/it]"
     ]
    },
    {
     "name": "stdout",
     "output_type": "stream",
     "text": [
      "Test set: Accuracy: 591555/614179 (0.963163833345002)\n",
      "\n",
      "[100000/1433083 (7%)]\tLoss: 221.43\n",
      "[200000/1433083 (14%)]\tLoss: 216.89\n",
      "[300000/1433083 (21%)]\tLoss: 203.89\n",
      "[400000/1433083 (28%)]\tLoss: 199.01\n",
      "[500000/1433083 (35%)]\tLoss: 202.72\n",
      "[600000/1433083 (42%)]\tLoss: 178.42\n",
      "[700000/1433083 (49%)]\tLoss: 160.66\n",
      "[800000/1433083 (56%)]\tLoss: 148.74\n",
      "[900000/1433083 (63%)]\tLoss: 169.83\n",
      "[1000000/1433083 (70%)]\tLoss: 196.92\n",
      "[1100000/1433083 (77%)]\tLoss: 291.39\n",
      "[1200000/1433083 (84%)]\tLoss: 322.21\n",
      "[1300000/1433083 (91%)]\tLoss: 366.15\n",
      "[1400000/1433083 (98%)]\tLoss: 470.12\n"
     ]
    },
    {
     "name": "stderr",
     "output_type": "stream",
     "text": [
      "\r",
      "Epoch:  24%|██▍       | 6/25 [05:25<17:05, 53.99s/it]"
     ]
    },
    {
     "name": "stdout",
     "output_type": "stream",
     "text": [
      "Test set: Accuracy: 593818/614179 (0.9668484269243982)\n",
      "\n",
      "[100000/1433083 (7%)]\tLoss: 207.61\n",
      "[200000/1433083 (14%)]\tLoss: 207.03\n",
      "[300000/1433083 (21%)]\tLoss: 191.70\n",
      "[400000/1433083 (28%)]\tLoss: 185.89\n",
      "[500000/1433083 (35%)]\tLoss: 188.51\n",
      "[600000/1433083 (42%)]\tLoss: 165.87\n",
      "[700000/1433083 (49%)]\tLoss: 149.38\n",
      "[800000/1433083 (56%)]\tLoss: 138.10\n",
      "[900000/1433083 (63%)]\tLoss: 157.53\n",
      "[1000000/1433083 (70%)]\tLoss: 183.83\n",
      "[1100000/1433083 (77%)]\tLoss: 191.51\n",
      "[1200000/1433083 (84%)]\tLoss: 219.31\n",
      "[1300000/1433083 (91%)]\tLoss: 274.90\n",
      "[1400000/1433083 (98%)]\tLoss: 387.14\n"
     ]
    },
    {
     "name": "stderr",
     "output_type": "stream",
     "text": [
      "\r",
      "Epoch:  28%|██▊       | 7/25 [06:19<16:09, 53.84s/it]"
     ]
    },
    {
     "name": "stdout",
     "output_type": "stream",
     "text": [
      "Test set: Accuracy: 599608/614179 (0.9762756460250188)\n",
      "\n",
      "[100000/1433083 (7%)]\tLoss: 206.18\n",
      "[200000/1433083 (14%)]\tLoss: 190.36\n",
      "[300000/1433083 (21%)]\tLoss: 173.24\n",
      "[400000/1433083 (28%)]\tLoss: 166.41\n",
      "[500000/1433083 (35%)]\tLoss: 167.86\n",
      "[600000/1433083 (42%)]\tLoss: 147.50\n",
      "[700000/1433083 (49%)]\tLoss: 132.81\n",
      "[800000/1433083 (56%)]\tLoss: 122.73\n",
      "[900000/1433083 (63%)]\tLoss: 139.60\n",
      "[1000000/1433083 (70%)]\tLoss: 163.98\n",
      "[1100000/1433083 (77%)]\tLoss: 170.87\n",
      "[1200000/1433083 (84%)]\tLoss: 197.23\n",
      "[1300000/1433083 (91%)]\tLoss: 252.15\n",
      "[1400000/1433083 (98%)]\tLoss: 361.59\n"
     ]
    },
    {
     "name": "stderr",
     "output_type": "stream",
     "text": [
      "\r",
      "Epoch:  32%|███▏      | 8/25 [07:13<15:15, 53.83s/it]"
     ]
    },
    {
     "name": "stdout",
     "output_type": "stream",
     "text": [
      "Test set: Accuracy: 599325/614179 (0.9758148683038658)\n",
      "\n",
      "[100000/1433083 (7%)]\tLoss: 198.02\n",
      "[200000/1433083 (14%)]\tLoss: 176.09\n",
      "[300000/1433083 (21%)]\tLoss: 157.01\n",
      "[400000/1433083 (28%)]\tLoss: 149.33\n",
      "[500000/1433083 (35%)]\tLoss: 150.24\n",
      "[600000/1433083 (42%)]\tLoss: 131.96\n",
      "[700000/1433083 (49%)]\tLoss: 118.61\n",
      "[800000/1433083 (56%)]\tLoss: 109.62\n",
      "[900000/1433083 (63%)]\tLoss: 124.36\n",
      "[1000000/1433083 (70%)]\tLoss: 161.22\n",
      "[1100000/1433083 (77%)]\tLoss: 167.31\n",
      "[1200000/1433083 (84%)]\tLoss: 187.58\n",
      "[1300000/1433083 (91%)]\tLoss: 226.95\n",
      "[1400000/1433083 (98%)]\tLoss: 333.51\n"
     ]
    },
    {
     "name": "stderr",
     "output_type": "stream",
     "text": [
      "\r",
      "Epoch:  36%|███▌      | 9/25 [08:07<14:21, 53.85s/it]"
     ]
    },
    {
     "name": "stdout",
     "output_type": "stream",
     "text": [
      "Test set: Accuracy: 599282/614179 (0.9757448561412878)\n",
      "\n",
      "[100000/1433083 (7%)]\tLoss: 170.42\n",
      "[200000/1433083 (14%)]\tLoss: 152.80\n",
      "[300000/1433083 (21%)]\tLoss: 136.48\n",
      "[400000/1433083 (28%)]\tLoss: 128.15\n",
      "[500000/1433083 (35%)]\tLoss: 128.87\n",
      "[600000/1433083 (42%)]\tLoss: 113.26\n",
      "[700000/1433083 (49%)]\tLoss: 101.79\n",
      "[800000/1433083 (56%)]\tLoss: 94.08\n",
      "[900000/1433083 (63%)]\tLoss: 106.92\n",
      "[1000000/1433083 (70%)]\tLoss: 149.86\n",
      "[1100000/1433083 (77%)]\tLoss: 156.16\n",
      "[1200000/1433083 (84%)]\tLoss: 174.90\n",
      "[1300000/1433083 (91%)]\tLoss: 206.80\n",
      "[1400000/1433083 (98%)]\tLoss: 303.74\n"
     ]
    },
    {
     "name": "stderr",
     "output_type": "stream",
     "text": [
      "\r",
      "Epoch:  40%|████      | 10/25 [09:00<13:26, 53.76s/it]"
     ]
    },
    {
     "name": "stdout",
     "output_type": "stream",
     "text": [
      "Test set: Accuracy: 602302/614179 (0.9806619894200225)\n",
      "\n",
      "[100000/1433083 (7%)]\tLoss: 170.95\n",
      "[200000/1433083 (14%)]\tLoss: 143.75\n",
      "[300000/1433083 (21%)]\tLoss: 125.06\n",
      "[400000/1433083 (28%)]\tLoss: 116.37\n",
      "[500000/1433083 (35%)]\tLoss: 116.17\n",
      "[600000/1433083 (42%)]\tLoss: 102.06\n",
      "[700000/1433083 (49%)]\tLoss: 91.56\n",
      "[800000/1433083 (56%)]\tLoss: 84.51\n",
      "[900000/1433083 (63%)]\tLoss: 96.30\n",
      "[1000000/1433083 (70%)]\tLoss: 116.04\n",
      "[1100000/1433083 (77%)]\tLoss: 120.10\n",
      "[1200000/1433083 (84%)]\tLoss: 138.36\n",
      "[1300000/1433083 (91%)]\tLoss: 172.34\n",
      "[1400000/1433083 (98%)]\tLoss: 270.27\n"
     ]
    },
    {
     "name": "stderr",
     "output_type": "stream",
     "text": [
      "\r",
      "Epoch:  44%|████▍     | 11/25 [09:54<12:31, 53.71s/it]"
     ]
    },
    {
     "name": "stdout",
     "output_type": "stream",
     "text": [
      "Test set: Accuracy: 604047/614179 (0.9835031806688278)\n",
      "\n",
      "[100000/1433083 (7%)]\tLoss: 139.27\n",
      "[200000/1433083 (14%)]\tLoss: 122.78\n",
      "[300000/1433083 (21%)]\tLoss: 107.96\n",
      "[400000/1433083 (28%)]\tLoss: 100.17\n",
      "[500000/1433083 (35%)]\tLoss: 101.56\n",
      "[600000/1433083 (42%)]\tLoss: 89.36\n",
      "[700000/1433083 (49%)]\tLoss: 80.25\n",
      "[800000/1433083 (56%)]\tLoss: 74.14\n",
      "[900000/1433083 (63%)]\tLoss: 84.58\n",
      "[1000000/1433083 (70%)]\tLoss: 119.35\n",
      "[1100000/1433083 (77%)]\tLoss: 122.97\n",
      "[1200000/1433083 (84%)]\tLoss: 139.27\n",
      "[1300000/1433083 (91%)]\tLoss: 164.18\n",
      "[1400000/1433083 (98%)]\tLoss: 252.64\n"
     ]
    },
    {
     "name": "stderr",
     "output_type": "stream",
     "text": [
      "\r",
      "Epoch:  48%|████▊     | 12/25 [10:47<11:37, 53.64s/it]"
     ]
    },
    {
     "name": "stdout",
     "output_type": "stream",
     "text": [
      "Test set: Accuracy: 605276/614179 (0.985504225966697)\n",
      "\n",
      "[100000/1433083 (7%)]\tLoss: 131.52\n",
      "[200000/1433083 (14%)]\tLoss: 109.43\n",
      "[300000/1433083 (21%)]\tLoss: 95.93\n",
      "[400000/1433083 (28%)]\tLoss: 88.11\n",
      "[500000/1433083 (35%)]\tLoss: 90.09\n",
      "[600000/1433083 (42%)]\tLoss: 79.30\n",
      "[700000/1433083 (49%)]\tLoss: 71.28\n",
      "[800000/1433083 (56%)]\tLoss: 65.83\n",
      "[900000/1433083 (63%)]\tLoss: 75.34\n",
      "[1000000/1433083 (70%)]\tLoss: 91.68\n",
      "[1100000/1433083 (77%)]\tLoss: 94.56\n",
      "[1200000/1433083 (84%)]\tLoss: 110.62\n",
      "[1300000/1433083 (91%)]\tLoss: 135.06\n",
      "[1400000/1433083 (98%)]\tLoss: 227.89\n"
     ]
    },
    {
     "name": "stderr",
     "output_type": "stream",
     "text": [
      "\r",
      "Epoch:  52%|█████▏    | 13/25 [11:41<10:43, 53.64s/it]"
     ]
    },
    {
     "name": "stdout",
     "output_type": "stream",
     "text": [
      "Test set: Accuracy: 605237/614179 (0.9854407265634286)\n",
      "\n",
      "[100000/1433083 (7%)]\tLoss: 116.14\n",
      "[200000/1433083 (14%)]\tLoss: 94.67\n",
      "[300000/1433083 (21%)]\tLoss: 83.20\n",
      "[400000/1433083 (28%)]\tLoss: 76.21\n",
      "[500000/1433083 (35%)]\tLoss: 79.38\n",
      "[600000/1433083 (42%)]\tLoss: 69.94\n",
      "[700000/1433083 (49%)]\tLoss: 62.93\n",
      "[800000/1433083 (56%)]\tLoss: 58.19\n",
      "[900000/1433083 (63%)]\tLoss: 67.78\n",
      "[1000000/1433083 (70%)]\tLoss: 93.65\n",
      "[1100000/1433083 (77%)]\tLoss: 96.00\n",
      "[1200000/1433083 (84%)]\tLoss: 108.20\n",
      "[1300000/1433083 (91%)]\tLoss: 129.91\n",
      "[1400000/1433083 (98%)]\tLoss: 214.46\n"
     ]
    },
    {
     "name": "stderr",
     "output_type": "stream",
     "text": [
      "\r",
      "Epoch:  56%|█████▌    | 14/25 [12:34<09:49, 53.61s/it]"
     ]
    },
    {
     "name": "stdout",
     "output_type": "stream",
     "text": [
      "Test set: Accuracy: 606151/614179 (0.9869288920656681)\n",
      "\n",
      "[100000/1433083 (7%)]\tLoss: 109.36\n",
      "[200000/1433083 (14%)]\tLoss: 86.57\n",
      "[300000/1433083 (21%)]\tLoss: 73.82\n",
      "[400000/1433083 (28%)]\tLoss: 67.24\n",
      "[500000/1433083 (35%)]\tLoss: 75.41\n",
      "[600000/1433083 (42%)]\tLoss: 66.73\n",
      "[700000/1433083 (49%)]\tLoss: 60.03\n",
      "[800000/1433083 (56%)]\tLoss: 55.47\n",
      "[900000/1433083 (63%)]\tLoss: 63.00\n",
      "[1000000/1433083 (70%)]\tLoss: 84.08\n",
      "[1100000/1433083 (77%)]\tLoss: 93.30\n",
      "[1200000/1433083 (84%)]\tLoss: 104.25\n",
      "[1300000/1433083 (91%)]\tLoss: 123.61\n",
      "[1400000/1433083 (98%)]\tLoss: 203.62\n"
     ]
    },
    {
     "name": "stderr",
     "output_type": "stream",
     "text": [
      "\r",
      "Epoch:  60%|██████    | 15/25 [13:28<08:54, 53.47s/it]"
     ]
    },
    {
     "name": "stdout",
     "output_type": "stream",
     "text": [
      "Test set: Accuracy: 606676/614179 (0.9877836917250509)\n",
      "\n",
      "[100000/1433083 (7%)]\tLoss: 103.06\n",
      "[200000/1433083 (14%)]\tLoss: 80.06\n",
      "[300000/1433083 (21%)]\tLoss: 68.10\n",
      "[400000/1433083 (28%)]\tLoss: 61.53\n",
      "[500000/1433083 (35%)]\tLoss: 62.53\n",
      "[600000/1433083 (42%)]\tLoss: 55.25\n",
      "[700000/1433083 (49%)]\tLoss: 49.67\n",
      "[800000/1433083 (56%)]\tLoss: 46.02\n",
      "[900000/1433083 (63%)]\tLoss: 53.67\n",
      "[1000000/1433083 (70%)]\tLoss: 67.26\n",
      "[1100000/1433083 (77%)]\tLoss: 69.20\n",
      "[1200000/1433083 (84%)]\tLoss: 79.24\n",
      "[1300000/1433083 (91%)]\tLoss: 101.99\n",
      "[1400000/1433083 (98%)]\tLoss: 191.61\n"
     ]
    },
    {
     "name": "stderr",
     "output_type": "stream",
     "text": [
      "\r",
      "Epoch:  64%|██████▍   | 16/25 [14:21<08:01, 53.53s/it]"
     ]
    },
    {
     "name": "stdout",
     "output_type": "stream",
     "text": [
      "Test set: Accuracy: 606140/614179 (0.9869109819775668)\n",
      "\n",
      "[100000/1433083 (7%)]\tLoss: 92.75\n",
      "[200000/1433083 (14%)]\tLoss: 73.31\n",
      "[300000/1433083 (21%)]\tLoss: 62.88\n",
      "[400000/1433083 (28%)]\tLoss: 56.41\n",
      "[500000/1433083 (35%)]\tLoss: 58.31\n",
      "[600000/1433083 (42%)]\tLoss: 51.55\n",
      "[700000/1433083 (49%)]\tLoss: 46.30\n",
      "[800000/1433083 (56%)]\tLoss: 42.87\n",
      "[900000/1433083 (63%)]\tLoss: 49.20\n",
      "[1000000/1433083 (70%)]\tLoss: 73.41\n",
      "[1100000/1433083 (77%)]\tLoss: 76.17\n",
      "[1200000/1433083 (84%)]\tLoss: 86.41\n",
      "[1300000/1433083 (91%)]\tLoss: 101.87\n",
      "[1400000/1433083 (98%)]\tLoss: 181.53\n"
     ]
    },
    {
     "name": "stderr",
     "output_type": "stream",
     "text": [
      "\r",
      "Epoch:  68%|██████▊   | 17/25 [15:14<07:06, 53.30s/it]"
     ]
    },
    {
     "name": "stdout",
     "output_type": "stream",
     "text": [
      "Test set: Accuracy: 606986/614179 (0.9882884305715435)\n",
      "\n",
      "[100000/1433083 (7%)]\tLoss: 95.87\n",
      "[200000/1433083 (14%)]\tLoss: 74.00\n",
      "[300000/1433083 (21%)]\tLoss: 62.83\n",
      "[400000/1433083 (28%)]\tLoss: 55.90\n",
      "[500000/1433083 (35%)]\tLoss: 55.04\n",
      "[600000/1433083 (42%)]\tLoss: 48.62\n",
      "[700000/1433083 (49%)]\tLoss: 43.59\n",
      "[800000/1433083 (56%)]\tLoss: 40.32\n",
      "[900000/1433083 (63%)]\tLoss: 48.19\n",
      "[1000000/1433083 (70%)]\tLoss: 58.35\n",
      "[1100000/1433083 (77%)]\tLoss: 59.35\n",
      "[1200000/1433083 (84%)]\tLoss: 67.23\n",
      "[1300000/1433083 (91%)]\tLoss: 84.52\n",
      "[1400000/1433083 (98%)]\tLoss: 157.47\n"
     ]
    },
    {
     "name": "stderr",
     "output_type": "stream",
     "text": [
      "\r",
      "Epoch:  72%|███████▏  | 18/25 [16:07<06:13, 53.31s/it]"
     ]
    },
    {
     "name": "stdout",
     "output_type": "stream",
     "text": [
      "Test set: Accuracy: 607698/614179 (0.9894477017286492)\n",
      "\n",
      "[100000/1433083 (7%)]\tLoss: 368.82\n",
      "[200000/1433083 (14%)]\tLoss: 218.92\n",
      "[300000/1433083 (21%)]\tLoss: 167.24\n",
      "[400000/1433083 (28%)]\tLoss: 139.75\n",
      "[500000/1433083 (35%)]\tLoss: 125.59\n",
      "[600000/1433083 (42%)]\tLoss: 108.61\n",
      "[700000/1433083 (49%)]\tLoss: 95.63\n",
      "[800000/1433083 (56%)]\tLoss: 86.34\n",
      "[900000/1433083 (63%)]\tLoss: 88.22\n",
      "[1000000/1433083 (70%)]\tLoss: 96.66\n",
      "[1100000/1433083 (77%)]\tLoss: 94.91\n",
      "[1200000/1433083 (84%)]\tLoss: 100.72\n",
      "[1300000/1433083 (91%)]\tLoss: 113.00\n",
      "[1400000/1433083 (98%)]\tLoss: 172.54\n"
     ]
    },
    {
     "name": "stderr",
     "output_type": "stream",
     "text": [
      "\r",
      "Epoch:  76%|███████▌  | 19/25 [17:01<05:20, 53.37s/it]"
     ]
    },
    {
     "name": "stdout",
     "output_type": "stream",
     "text": [
      "Test set: Accuracy: 608298/614179 (0.9904246156250865)\n",
      "\n",
      "[100000/1433083 (7%)]\tLoss: 83.83\n",
      "[200000/1433083 (14%)]\tLoss: 61.75\n",
      "[300000/1433083 (21%)]\tLoss: 52.70\n",
      "[400000/1433083 (28%)]\tLoss: 46.89\n",
      "[500000/1433083 (35%)]\tLoss: 56.96\n",
      "[600000/1433083 (42%)]\tLoss: 51.13\n",
      "[700000/1433083 (49%)]\tLoss: 46.00\n",
      "[800000/1433083 (56%)]\tLoss: 42.36\n",
      "[900000/1433083 (63%)]\tLoss: 47.24\n",
      "[1000000/1433083 (70%)]\tLoss: 55.63\n",
      "[1100000/1433083 (77%)]\tLoss: 55.91\n",
      "[1200000/1433083 (84%)]\tLoss: 62.33\n",
      "[1300000/1433083 (91%)]\tLoss: 78.14\n",
      "[1400000/1433083 (98%)]\tLoss: 146.91\n"
     ]
    },
    {
     "name": "stderr",
     "output_type": "stream",
     "text": [
      "\r",
      "Epoch:  80%|████████  | 20/25 [17:54<04:26, 53.39s/it]"
     ]
    },
    {
     "name": "stdout",
     "output_type": "stream",
     "text": [
      "Test set: Accuracy: 608330/614179 (0.9904767176995631)\n",
      "\n",
      "[100000/1433083 (7%)]\tLoss: 57.70\n",
      "[200000/1433083 (14%)]\tLoss: 47.09\n",
      "[300000/1433083 (21%)]\tLoss: 40.86\n",
      "[400000/1433083 (28%)]\tLoss: 36.61\n",
      "[500000/1433083 (35%)]\tLoss: 39.02\n",
      "[600000/1433083 (42%)]\tLoss: 34.91\n",
      "[700000/1433083 (49%)]\tLoss: 31.49\n",
      "[800000/1433083 (56%)]\tLoss: 29.22\n",
      "[900000/1433083 (63%)]\tLoss: 34.12\n",
      "[1000000/1433083 (70%)]\tLoss: 45.57\n",
      "[1100000/1433083 (77%)]\tLoss: 46.08\n",
      "[1200000/1433083 (84%)]\tLoss: 52.18\n",
      "[1300000/1433083 (91%)]\tLoss: 63.15\n",
      "[1400000/1433083 (98%)]\tLoss: 126.22\n"
     ]
    },
    {
     "name": "stderr",
     "output_type": "stream",
     "text": [
      "\r",
      "Epoch:  84%|████████▍ | 21/25 [18:47<03:33, 53.34s/it]"
     ]
    },
    {
     "name": "stdout",
     "output_type": "stream",
     "text": [
      "Test set: Accuracy: 608439/614179 (0.9906541903907493)\n",
      "\n",
      "[100000/1433083 (7%)]\tLoss: 52.64\n",
      "[200000/1433083 (14%)]\tLoss: 48.00\n",
      "[300000/1433083 (21%)]\tLoss: 47.84\n",
      "[400000/1433083 (28%)]\tLoss: 41.81\n",
      "[500000/1433083 (35%)]\tLoss: 40.82\n",
      "[600000/1433083 (42%)]\tLoss: 36.19\n",
      "[700000/1433083 (49%)]\tLoss: 32.38\n",
      "[800000/1433083 (56%)]\tLoss: 29.82\n",
      "[900000/1433083 (63%)]\tLoss: 34.26\n",
      "[1000000/1433083 (70%)]\tLoss: 44.94\n",
      "[1100000/1433083 (77%)]\tLoss: 44.96\n",
      "[1200000/1433083 (84%)]\tLoss: 50.05\n",
      "[1300000/1433083 (91%)]\tLoss: 66.33\n",
      "[1400000/1433083 (98%)]\tLoss: 139.93\n"
     ]
    },
    {
     "name": "stderr",
     "output_type": "stream",
     "text": [
      "\r",
      "Epoch:  88%|████████▊ | 22/25 [19:41<02:40, 53.44s/it]"
     ]
    },
    {
     "name": "stdout",
     "output_type": "stream",
     "text": [
      "Test set: Accuracy: 607738/614179 (0.989512829321745)\n",
      "\n",
      "[100000/1433083 (7%)]\tLoss: 46.18\n",
      "[200000/1433083 (14%)]\tLoss: 37.90\n",
      "[300000/1433083 (21%)]\tLoss: 32.57\n",
      "[400000/1433083 (28%)]\tLoss: 29.29\n",
      "[500000/1433083 (35%)]\tLoss: 31.42\n",
      "[600000/1433083 (42%)]\tLoss: 28.20\n",
      "[700000/1433083 (49%)]\tLoss: 25.42\n",
      "[800000/1433083 (56%)]\tLoss: 23.63\n",
      "[900000/1433083 (63%)]\tLoss: 29.19\n",
      "[1000000/1433083 (70%)]\tLoss: 39.89\n",
      "[1100000/1433083 (77%)]\tLoss: 39.93\n",
      "[1200000/1433083 (84%)]\tLoss: 44.57\n",
      "[1300000/1433083 (91%)]\tLoss: 53.92\n",
      "[1400000/1433083 (98%)]\tLoss: 115.78\n"
     ]
    },
    {
     "name": "stderr",
     "output_type": "stream",
     "text": [
      "\r",
      "Epoch:  92%|█████████▏| 23/25 [20:35<01:46, 53.45s/it]"
     ]
    },
    {
     "name": "stdout",
     "output_type": "stream",
     "text": [
      "Test set: Accuracy: 608367/614179 (0.9905369607231768)\n",
      "\n",
      "[100000/1433083 (7%)]\tLoss: 61.71\n",
      "[200000/1433083 (14%)]\tLoss: 44.38\n",
      "[300000/1433083 (21%)]\tLoss: 35.90\n",
      "[400000/1433083 (28%)]\tLoss: 31.01\n",
      "[500000/1433083 (35%)]\tLoss: 29.94\n",
      "[600000/1433083 (42%)]\tLoss: 26.80\n",
      "[700000/1433083 (49%)]\tLoss: 23.95\n",
      "[800000/1433083 (56%)]\tLoss: 22.16\n",
      "[900000/1433083 (63%)]\tLoss: 30.20\n",
      "[1000000/1433083 (70%)]\tLoss: 37.66\n",
      "[1100000/1433083 (77%)]\tLoss: 37.48\n",
      "[1200000/1433083 (84%)]\tLoss: 41.54\n",
      "[1300000/1433083 (91%)]\tLoss: 48.95\n",
      "[1400000/1433083 (98%)]\tLoss: 102.58\n"
     ]
    },
    {
     "name": "stderr",
     "output_type": "stream",
     "text": [
      "\r",
      "Epoch:  96%|█████████▌| 24/25 [21:28<00:53, 53.44s/it]"
     ]
    },
    {
     "name": "stdout",
     "output_type": "stream",
     "text": [
      "Test set: Accuracy: 608703/614179 (0.9910840325051817)\n",
      "\n",
      "[100000/1433083 (7%)]\tLoss: 53.78\n",
      "[200000/1433083 (14%)]\tLoss: 37.88\n",
      "[300000/1433083 (21%)]\tLoss: 31.08\n",
      "[400000/1433083 (28%)]\tLoss: 26.78\n",
      "[500000/1433083 (35%)]\tLoss: 42.02\n",
      "[600000/1433083 (42%)]\tLoss: 39.26\n",
      "[700000/1433083 (49%)]\tLoss: 36.59\n",
      "[800000/1433083 (56%)]\tLoss: 34.37\n",
      "[900000/1433083 (63%)]\tLoss: 37.94\n",
      "[1000000/1433083 (70%)]\tLoss: 45.47\n",
      "[1100000/1433083 (77%)]\tLoss: 44.46\n",
      "[1200000/1433083 (84%)]\tLoss: 47.18\n",
      "[1300000/1433083 (91%)]\tLoss: 52.87\n",
      "[1400000/1433083 (98%)]\tLoss: 100.92\n"
     ]
    },
    {
     "name": "stderr",
     "output_type": "stream",
     "text": [
      "Epoch: 100%|██████████| 25/25 [22:22<00:00, 53.70s/it]"
     ]
    },
    {
     "name": "stdout",
     "output_type": "stream",
     "text": [
      "Test set: Accuracy: 608702/614179 (0.9910824043153543)\n",
      "\n",
      "CPU times: user 31min 25s, sys: 1h 27min 9s, total: 1h 58min 34s\n",
      "Wall time: 22min 26s\n"
     ]
    },
    {
     "name": "stderr",
     "output_type": "stream",
     "text": [
      "\n"
     ]
    }
   ],
   "source": [
    "%%time\n",
    "dd.train_model(train_data, labels, batch_size=BATCH_SIZE, epochs=EPOCHS, train_size=0.7)"
   ]
  },
  {
   "cell_type": "markdown",
   "metadata": {},
   "source": [
    "### Save Model\n",
    "Save pretrained model to a given output location."
   ]
  },
  {
   "cell_type": "code",
   "execution_count": 10,
   "metadata": {},
   "outputs": [
    {
     "name": "stdout",
     "output_type": "stream",
     "text": [
      "Creating directory 'models'\n",
      "Pretrained model saved to location: 'models/rnn_classifier_2021-05-05_21_46_27.bin'\n"
     ]
    }
   ],
   "source": [
    "if not os.path.exists(MODELS_DIR):\n",
    "    print(\"Creating directory '{}'\".format(MODELS_DIR))\n",
    "    os.makedirs(MODELS_DIR)\n",
    "\n",
    "now = datetime.now()\n",
    "model_filename = \"rnn_classifier_{}.bin\".format(now.strftime(\"%Y-%m-%d_%H_%M_%S\"))\n",
    "model_filepath = os.path.join(MODELS_DIR, model_filename)\n",
    "dd.save_model(model_filepath)\n",
    "print(\"Pretrained model saved to location: '{}'\".format(model_filepath))"
   ]
  },
  {
   "cell_type": "markdown",
   "metadata": {},
   "source": [
    "### Inference"
   ]
  },
  {
   "cell_type": "markdown",
   "metadata": {},
   "source": [
    "Using the model generated above, we now score the test dataset against the model to determine if the domain is likely generated by a DGA or benign."
   ]
  },
  {
   "cell_type": "code",
   "execution_count": 11,
   "metadata": {},
   "outputs": [
    {
     "name": "stdout",
     "output_type": "stream",
     "text": [
      "Model accuracy: 0.9927285042308512\n"
     ]
    }
   ],
   "source": [
    "dga_detector = DGADetector()\n",
    "dga_detector.load_model(model_filepath)\n",
    "\n",
    "domain_train, domain_test, type_train, type_test = train_test_split(gdf, \"type\", train_size=0.7)\n",
    "test_df = cudf.DataFrame()\n",
    "test_df[\"type\"] = type_test.reset_index(drop=True)\n",
    "test_df[\"domain\"] = domain_test.reset_index(drop=True)\n",
    "\n",
    "test_dataset = DGADataset(test_df)\n",
    "test_dataloader = DataLoader(test_dataset, batchsize=BATCH_SIZE)\n",
    "\n",
    "pred_results = []\n",
    "true_results = []\n",
    "for chunk in test_dataloader.get_chunks():\n",
    "    pred_results.append(list(dga_detector.predict(chunk['domain']).values_host))\n",
    "    true_results.append(list(chunk['type'].values_host))\n",
    "pred_results = np.concatenate(pred_results)\n",
    "true_results = np.concatenate(true_results)\n",
    "accuracy_score = accuracy_score(pred_results, true_results)\n",
    "\n",
    "print('Model accuracy: %s'%(accuracy_score))"
   ]
  },
  {
   "cell_type": "code",
   "execution_count": 12,
   "metadata": {},
   "outputs": [
    {
     "name": "stdout",
     "output_type": "stream",
     "text": [
      "Average precision score: 0.979\n"
     ]
    }
   ],
   "source": [
    "average_precision = average_precision_score(true_results, pred_results)\n",
    "\n",
    "print('Average precision score: {0:0.3f}'.format(average_precision))"
   ]
  },
  {
   "cell_type": "markdown",
   "metadata": {},
   "source": [
    "## Conclusion"
   ]
  },
  {
   "cell_type": "markdown",
   "metadata": {},
   "source": [
    "DGA detector in CLX enables users to train their models for detection and also use existing models. This capability could also be used in conjunction with log parsing efforts if the logs contain domain names. DGA detection done with CLX and RAPIDS keeps data in GPU memory, removing unnecessary copy/converts and providing a 4X speed advantage over CPU only implementations. This is esepcially true with large batch sizes."
   ]
  }
 ],
 "metadata": {
  "kernelspec": {
   "display_name": "Python 3",
   "language": "python",
   "name": "python3"
  },
  "language_info": {
   "codemirror_mode": {
    "name": "ipython",
    "version": 3
   },
   "file_extension": ".py",
   "mimetype": "text/x-python",
   "name": "python",
   "nbconvert_exporter": "python",
   "pygments_lexer": "ipython3",
   "version": "3.7.10"
  }
 },
 "nbformat": 4,
 "nbformat_minor": 4
}
