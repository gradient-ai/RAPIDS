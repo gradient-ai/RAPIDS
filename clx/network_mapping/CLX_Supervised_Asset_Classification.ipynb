{
 "cells": [
  {
   "cell_type": "markdown",
   "metadata": {},
   "source": [
    "# CLX Asset Classification (Supervised)"
   ]
  },
  {
   "cell_type": "markdown",
   "metadata": {},
   "source": [
    "## Authors\n",
    "- Eli Fajardo (NVIDIA)\n",
    "- Görkem Batmaz (NVIDIA)\n",
    "- Bhargav Suryadevara (NVIDIA)\n"
   ]
  },
  {
   "cell_type": "markdown",
   "metadata": {},
   "source": [
    "## Table of Contents \n",
    "* Introduction\n",
    "* Dataset\n",
    "* Reading in the datasets\n",
    "* Training and inference\n",
    "* References"
   ]
  },
  {
   "cell_type": "markdown",
   "metadata": {},
   "source": [
    "# Introduction"
   ]
  },
  {
   "cell_type": "markdown",
   "metadata": {},
   "source": [
    "In this notebook, we will show how to predict the function of a server with Windows Event Logs using cudf, cuml and pytorch. The machines are labeled as DC, SQL, WEB, DHCP, MAIL and SAP. The dependent variable will be the type of the machine. The features are selected from Windows Event Logs which is in a tabular format. This is a first step to learn the behaviours of certain types of machines in data-centres by classifying them probabilistically. It could help to detect unusual behaviour in a data-centre. For example, some compromised computers might be acting as web/database servers but with their original tag. \n",
    "\n",
    "This work could be expanded by using different log types or different events from the machines as features to improve accuracy. Various labels can be selected to cover different types of machines or data-centres."
   ]
  },
  {
   "cell_type": "markdown",
   "metadata": {},
   "source": [
    "## Library imports"
   ]
  },
  {
   "cell_type": "code",
   "execution_count": 1,
   "metadata": {},
   "outputs": [],
   "source": [
    "import cudf\n",
    "from cuml.preprocessing import train_test_split\n",
    "from cuml.preprocessing import LabelEncoder\n",
    "import torch\n",
    "from sklearn.metrics import accuracy_score, f1_score, confusion_matrix\n",
    "import pandas as pd\n",
    "from os import path\n",
    "\n",
    "try:\n",
    "    import s3fs \n",
    "except ImportError:\n",
    "    !conda install -c conda-forge -y s3fs \n",
    "    import s3fs \n",
    "\n",
    "try:\n",
    "    from clx.analytics.asset_classification import AssetClassification\n",
    "except ImportError:\n",
    "    !conda install -c rapidsai -y clx\n",
    "    from clx.analytics.asset_classification import AssetClassification"
   ]
  },
  {
   "cell_type": "markdown",
   "metadata": {},
   "source": [
    "## Initialize variables"
   ]
  },
  {
   "cell_type": "markdown",
   "metadata": {},
   "source": [
    "10000 is chosen as the batch size to optimise the performance for this dataset. It can be changed depending on the data loading mechanism or the setup used. \n",
    "\n",
    "EPOCH should also be adjusted depending on convergence for a specific dataset. \n",
    "\n",
    "label_col indicates the total number of features used plus the dependent variable. Feature names are listed below."
   ]
  },
  {
   "cell_type": "code",
   "execution_count": 2,
   "metadata": {},
   "outputs": [],
   "source": [
    "batch_size = 10000\n",
    "label_col = '19'\n",
    "epochs = 15"
   ]
  },
  {
   "cell_type": "code",
   "execution_count": 3,
   "metadata": {},
   "outputs": [],
   "source": [
    "ac = AssetClassification()"
   ]
  },
  {
   "cell_type": "markdown",
   "metadata": {},
   "source": [
    "## Read the dataset into a GPU dataframe with `cudf.read_csv()` \n",
    "\n",
    "The original data had many other fields. Many of them were either static or mostly blank. After filtering those, there were 18 meaningful columns left. In this notebook we use a fake continuous feature to show the inclusion of continuous features too. When you are using raw data the cell below need to be uncommented"
   ]
  },
  {
   "cell_type": "code",
   "execution_count": 4,
   "metadata": {},
   "outputs": [],
   "source": [
    "# win_events_gdf = cudf.read_csv(\"raw_features_and_labels.csv\")"
   ]
  },
  {
   "cell_type": "markdown",
   "metadata": {},
   "source": [
    "```\n",
    "win_events_gdf.dtypes\n",
    "\n",
    "eventcode                                                       int64\n",
    "keywords                                                       object\n",
    "privileges                                                     object\n",
    "message                                                        object\n",
    "sourcename                                                     object\n",
    "taskcategory                                                   object\n",
    "account_for_which_logon_failed_account_domain                  object\n",
    "detailed_authentication_information_authentication_package     object\n",
    "detailed_authentication_information_key_length                float64\n",
    "detailed_authentication_information_logon_process              object\n",
    "detailed_authentication_information_package_name_ntlm_only     object\n",
    "logon_type                                                    float64\n",
    "network_information_workstation_name                           object\n",
    "new_logon_security_id                                          object\n",
    "impersonation_level                                            object\n",
    "network_information_protocol                                  float64\n",
    "network_information_direction                                  object\n",
    "filter_information_layer_name                                  object\n",
    "cont1                                                           int64\n",
    "label                                                          object\n",
    "dtype: object\n",
    "```"
   ]
  },
  {
   "cell_type": "markdown",
   "metadata": {},
   "source": [
    "### Define categorical and continuous feature columns."
   ]
  },
  {
   "cell_type": "code",
   "execution_count": 5,
   "metadata": {},
   "outputs": [],
   "source": [
    "cat_cols = [\n",
    "    \"eventcode\",\n",
    "    \"keywords\",\n",
    "    \"privileges\",\n",
    "    \"message\",\n",
    "    \"sourcename\",\n",
    "    \"taskcategory\",\n",
    "    \"account_for_which_logon_failed_account_domain\",\n",
    "    \"detailed_authentication_information_authentication_package\",\n",
    "    \"detailed_authentication_information_key_length\",\n",
    "    \"detailed_authentication_information_logon_process\",\n",
    "    \"detailed_authentication_information_package_name_ntlm_only\",\n",
    "    \"logon_type\",\n",
    "    \"network_information_workstation_name\",\n",
    "    \"new_logon_security_id\",\n",
    "    \"impersonation_level\",\n",
    "    \"network_information_protocol\",\n",
    "    \"network_information_direction\",\n",
    "    \"filter_information_layer_name\",\n",
    "    \"label\"\n",
    "]"
   ]
  },
  {
   "cell_type": "code",
   "execution_count": 6,
   "metadata": {},
   "outputs": [],
   "source": [
    "cont_cols = [\n",
    "    \"cont1\"\n",
    "]"
   ]
  },
  {
   "cell_type": "markdown",
   "metadata": {},
   "source": [
    "The following are functions used to preprocess categorical and continuous feature columns. This can very depending on what best fits your application and data."
   ]
  },
  {
   "cell_type": "code",
   "execution_count": 7,
   "metadata": {},
   "outputs": [],
   "source": [
    "def categorize_columns(cat_gdf):\n",
    "    for col in cat_gdf.columns:\n",
    "        cat_gdf[col] = cat_gdf[col].astype('str')\n",
    "        cat_gdf[col] = cat_gdf[col].fillna(\"NA\")\n",
    "        cat_gdf[col] = LabelEncoder().fit_transform(cat_gdf[col])\n",
    "        cat_gdf[col] = cat_gdf[col].astype('int16')\n",
    "        \n",
    "    return cat_gdf"
   ]
  },
  {
   "cell_type": "code",
   "execution_count": 8,
   "metadata": {},
   "outputs": [],
   "source": [
    "def normalize_conts(cont_gdf):\n",
    "    means, stds = (cont_gdf.mean(0), cont_gdf.std(ddof=0))\n",
    "    cont_gdf = (cont_gdf - means) / stds\n",
    "    \n",
    "    return cont_gdf"
   ]
  },
  {
   "cell_type": "markdown",
   "metadata": {},
   "source": [
    "Preprocessing steps below are not executed in this notebook, because we release already preprocessed data."
   ]
  },
  {
   "cell_type": "code",
   "execution_count": 9,
   "metadata": {},
   "outputs": [],
   "source": [
    "#win_events_gdf[cat_cols] = categorize_columns(win_events_gdf[cat_cols])"
   ]
  },
  {
   "cell_type": "code",
   "execution_count": 10,
   "metadata": {},
   "outputs": [],
   "source": [
    "#win_events_gdf[cont_cols] = normalize_conts(win_events_gdf[cont_cols])"
   ]
  },
  {
   "cell_type": "markdown",
   "metadata": {},
   "source": [
    "Read Windows Event data already preprocessed by above steps"
   ]
  },
  {
   "cell_type": "code",
   "execution_count": 11,
   "metadata": {},
   "outputs": [],
   "source": [
    "S3_BASE_PATH = \"rapidsai-data/cyber/clx\"\n",
    "WINEVT_PREPROC_CSV = \"win_events_features_preproc.csv\"\n",
    "\n",
    "# Download Zeek conn log\n",
    "if not path.exists(WINEVT_PREPROC_CSV):\n",
    "    fs = s3fs.S3FileSystem(anon=True)\n",
    "    fs.get(S3_BASE_PATH + \"/\" + WINEVT_PREPROC_CSV, WINEVT_PREPROC_CSV)\n",
    "\n",
    "win_events_gdf = cudf.read_csv(\"win_events_features_preproc.csv\")"
   ]
  },
  {
   "cell_type": "code",
   "execution_count": 12,
   "metadata": {},
   "outputs": [
    {
     "data": {
      "text/html": [
       "<div>\n",
       "<style scoped>\n",
       "    .dataframe tbody tr th:only-of-type {\n",
       "        vertical-align: middle;\n",
       "    }\n",
       "\n",
       "    .dataframe tbody tr th {\n",
       "        vertical-align: top;\n",
       "    }\n",
       "\n",
       "    .dataframe thead th {\n",
       "        text-align: right;\n",
       "    }\n",
       "</style>\n",
       "<table border=\"1\" class=\"dataframe\">\n",
       "  <thead>\n",
       "    <tr style=\"text-align: right;\">\n",
       "      <th></th>\n",
       "      <th>eventcode</th>\n",
       "      <th>keywords</th>\n",
       "      <th>privileges</th>\n",
       "      <th>message</th>\n",
       "      <th>sourcename</th>\n",
       "      <th>taskcategory</th>\n",
       "      <th>account_for_which_logon_failed_account_domain</th>\n",
       "      <th>detailed_authentication_information_authentication_package</th>\n",
       "      <th>detailed_authentication_information_key_length</th>\n",
       "      <th>detailed_authentication_information_logon_process</th>\n",
       "      <th>detailed_authentication_information_package_name_ntlm_only</th>\n",
       "      <th>logon_type</th>\n",
       "      <th>network_information_workstation_name</th>\n",
       "      <th>new_logon_security_id</th>\n",
       "      <th>impersonation_level</th>\n",
       "      <th>network_information_protocol</th>\n",
       "      <th>network_information_direction</th>\n",
       "      <th>filter_information_layer_name</th>\n",
       "      <th>cont1</th>\n",
       "      <th>label</th>\n",
       "    </tr>\n",
       "  </thead>\n",
       "  <tbody>\n",
       "    <tr>\n",
       "      <th>0</th>\n",
       "      <td>0</td>\n",
       "      <td>1</td>\n",
       "      <td>0</td>\n",
       "      <td>15</td>\n",
       "      <td>0</td>\n",
       "      <td>4</td>\n",
       "      <td>22</td>\n",
       "      <td>0</td>\n",
       "      <td>0</td>\n",
       "      <td>5</td>\n",
       "      <td>0</td>\n",
       "      <td>1</td>\n",
       "      <td>932</td>\n",
       "      <td>38</td>\n",
       "      <td>3</td>\n",
       "      <td>6</td>\n",
       "      <td>1</td>\n",
       "      <td>1</td>\n",
       "      <td>-1.732030</td>\n",
       "      <td>1</td>\n",
       "    </tr>\n",
       "    <tr>\n",
       "      <th>1</th>\n",
       "      <td>14</td>\n",
       "      <td>1</td>\n",
       "      <td>0</td>\n",
       "      <td>7</td>\n",
       "      <td>0</td>\n",
       "      <td>5</td>\n",
       "      <td>22</td>\n",
       "      <td>3</td>\n",
       "      <td>2</td>\n",
       "      <td>6</td>\n",
       "      <td>1</td>\n",
       "      <td>6</td>\n",
       "      <td>932</td>\n",
       "      <td>25</td>\n",
       "      <td>3</td>\n",
       "      <td>6</td>\n",
       "      <td>1</td>\n",
       "      <td>1</td>\n",
       "      <td>-1.731988</td>\n",
       "      <td>0</td>\n",
       "    </tr>\n",
       "    <tr>\n",
       "      <th>2</th>\n",
       "      <td>14</td>\n",
       "      <td>1</td>\n",
       "      <td>0</td>\n",
       "      <td>7</td>\n",
       "      <td>0</td>\n",
       "      <td>5</td>\n",
       "      <td>22</td>\n",
       "      <td>3</td>\n",
       "      <td>2</td>\n",
       "      <td>6</td>\n",
       "      <td>1</td>\n",
       "      <td>6</td>\n",
       "      <td>932</td>\n",
       "      <td>25</td>\n",
       "      <td>3</td>\n",
       "      <td>6</td>\n",
       "      <td>1</td>\n",
       "      <td>1</td>\n",
       "      <td>-1.731945</td>\n",
       "      <td>0</td>\n",
       "    </tr>\n",
       "    <tr>\n",
       "      <th>3</th>\n",
       "      <td>14</td>\n",
       "      <td>1</td>\n",
       "      <td>0</td>\n",
       "      <td>7</td>\n",
       "      <td>0</td>\n",
       "      <td>5</td>\n",
       "      <td>22</td>\n",
       "      <td>3</td>\n",
       "      <td>2</td>\n",
       "      <td>6</td>\n",
       "      <td>1</td>\n",
       "      <td>6</td>\n",
       "      <td>932</td>\n",
       "      <td>25</td>\n",
       "      <td>3</td>\n",
       "      <td>6</td>\n",
       "      <td>1</td>\n",
       "      <td>1</td>\n",
       "      <td>-1.731903</td>\n",
       "      <td>0</td>\n",
       "    </tr>\n",
       "    <tr>\n",
       "      <th>4</th>\n",
       "      <td>14</td>\n",
       "      <td>1</td>\n",
       "      <td>0</td>\n",
       "      <td>7</td>\n",
       "      <td>0</td>\n",
       "      <td>5</td>\n",
       "      <td>22</td>\n",
       "      <td>3</td>\n",
       "      <td>2</td>\n",
       "      <td>6</td>\n",
       "      <td>1</td>\n",
       "      <td>6</td>\n",
       "      <td>932</td>\n",
       "      <td>25</td>\n",
       "      <td>3</td>\n",
       "      <td>6</td>\n",
       "      <td>1</td>\n",
       "      <td>1</td>\n",
       "      <td>-1.731861</td>\n",
       "      <td>0</td>\n",
       "    </tr>\n",
       "  </tbody>\n",
       "</table>\n",
       "</div>"
      ],
      "text/plain": [
       "   eventcode  keywords  privileges  message  sourcename  taskcategory  \\\n",
       "0          0         1           0       15           0             4   \n",
       "1         14         1           0        7           0             5   \n",
       "2         14         1           0        7           0             5   \n",
       "3         14         1           0        7           0             5   \n",
       "4         14         1           0        7           0             5   \n",
       "\n",
       "   account_for_which_logon_failed_account_domain  \\\n",
       "0                                             22   \n",
       "1                                             22   \n",
       "2                                             22   \n",
       "3                                             22   \n",
       "4                                             22   \n",
       "\n",
       "   detailed_authentication_information_authentication_package  \\\n",
       "0                                                  0            \n",
       "1                                                  3            \n",
       "2                                                  3            \n",
       "3                                                  3            \n",
       "4                                                  3            \n",
       "\n",
       "   detailed_authentication_information_key_length  \\\n",
       "0                                               0   \n",
       "1                                               2   \n",
       "2                                               2   \n",
       "3                                               2   \n",
       "4                                               2   \n",
       "\n",
       "   detailed_authentication_information_logon_process  \\\n",
       "0                                                  5   \n",
       "1                                                  6   \n",
       "2                                                  6   \n",
       "3                                                  6   \n",
       "4                                                  6   \n",
       "\n",
       "   detailed_authentication_information_package_name_ntlm_only  logon_type  \\\n",
       "0                                                  0                    1   \n",
       "1                                                  1                    6   \n",
       "2                                                  1                    6   \n",
       "3                                                  1                    6   \n",
       "4                                                  1                    6   \n",
       "\n",
       "   network_information_workstation_name  new_logon_security_id  \\\n",
       "0                                   932                     38   \n",
       "1                                   932                     25   \n",
       "2                                   932                     25   \n",
       "3                                   932                     25   \n",
       "4                                   932                     25   \n",
       "\n",
       "   impersonation_level  network_information_protocol  \\\n",
       "0                    3                             6   \n",
       "1                    3                             6   \n",
       "2                    3                             6   \n",
       "3                    3                             6   \n",
       "4                    3                             6   \n",
       "\n",
       "   network_information_direction  filter_information_layer_name     cont1  \\\n",
       "0                              1                              1 -1.732030   \n",
       "1                              1                              1 -1.731988   \n",
       "2                              1                              1 -1.731945   \n",
       "3                              1                              1 -1.731903   \n",
       "4                              1                              1 -1.731861   \n",
       "\n",
       "   label  \n",
       "0      1  \n",
       "1      0  \n",
       "2      0  \n",
       "3      0  \n",
       "4      0  "
      ]
     },
     "execution_count": 12,
     "metadata": {},
     "output_type": "execute_result"
    }
   ],
   "source": [
    "win_events_gdf.head()"
   ]
  },
  {
   "cell_type": "markdown",
   "metadata": {},
   "source": [
    "### Split the dataset into training and test sets using cuML `train_test_split` function\n",
    "Column 19 contains the ground truth about each machine's function that the logs come from. i.e. DC, SQL, WEB, DHCP, MAIL and SAP. Hence it will be used as a label."
   ]
  },
  {
   "cell_type": "code",
   "execution_count": 13,
   "metadata": {},
   "outputs": [],
   "source": [
    "X_train, X_test, Y_train, Y_test = train_test_split(win_events_gdf, \"label\", train_size=0.9)\n",
    "X_train[\"label\"] = Y_train"
   ]
  },
  {
   "cell_type": "code",
   "execution_count": 14,
   "metadata": {},
   "outputs": [
    {
     "data": {
      "text/html": [
       "<div>\n",
       "<style scoped>\n",
       "    .dataframe tbody tr th:only-of-type {\n",
       "        vertical-align: middle;\n",
       "    }\n",
       "\n",
       "    .dataframe tbody tr th {\n",
       "        vertical-align: top;\n",
       "    }\n",
       "\n",
       "    .dataframe thead th {\n",
       "        text-align: right;\n",
       "    }\n",
       "</style>\n",
       "<table border=\"1\" class=\"dataframe\">\n",
       "  <thead>\n",
       "    <tr style=\"text-align: right;\">\n",
       "      <th></th>\n",
       "      <th>eventcode</th>\n",
       "      <th>keywords</th>\n",
       "      <th>privileges</th>\n",
       "      <th>message</th>\n",
       "      <th>sourcename</th>\n",
       "      <th>taskcategory</th>\n",
       "      <th>account_for_which_logon_failed_account_domain</th>\n",
       "      <th>detailed_authentication_information_authentication_package</th>\n",
       "      <th>detailed_authentication_information_key_length</th>\n",
       "      <th>detailed_authentication_information_logon_process</th>\n",
       "      <th>detailed_authentication_information_package_name_ntlm_only</th>\n",
       "      <th>logon_type</th>\n",
       "      <th>network_information_workstation_name</th>\n",
       "      <th>new_logon_security_id</th>\n",
       "      <th>impersonation_level</th>\n",
       "      <th>network_information_protocol</th>\n",
       "      <th>network_information_direction</th>\n",
       "      <th>filter_information_layer_name</th>\n",
       "      <th>cont1</th>\n",
       "      <th>label</th>\n",
       "    </tr>\n",
       "  </thead>\n",
       "  <tbody>\n",
       "    <tr>\n",
       "      <th>7870</th>\n",
       "      <td>0</td>\n",
       "      <td>1</td>\n",
       "      <td>0</td>\n",
       "      <td>15</td>\n",
       "      <td>0</td>\n",
       "      <td>4</td>\n",
       "      <td>22</td>\n",
       "      <td>0</td>\n",
       "      <td>0</td>\n",
       "      <td>5</td>\n",
       "      <td>0</td>\n",
       "      <td>1</td>\n",
       "      <td>932</td>\n",
       "      <td>7973</td>\n",
       "      <td>3</td>\n",
       "      <td>6</td>\n",
       "      <td>1</td>\n",
       "      <td>1</td>\n",
       "      <td>-1.399917</td>\n",
       "      <td>3</td>\n",
       "    </tr>\n",
       "    <tr>\n",
       "      <th>27053</th>\n",
       "      <td>0</td>\n",
       "      <td>1</td>\n",
       "      <td>0</td>\n",
       "      <td>15</td>\n",
       "      <td>0</td>\n",
       "      <td>4</td>\n",
       "      <td>22</td>\n",
       "      <td>0</td>\n",
       "      <td>0</td>\n",
       "      <td>5</td>\n",
       "      <td>0</td>\n",
       "      <td>1</td>\n",
       "      <td>932</td>\n",
       "      <td>27</td>\n",
       "      <td>2</td>\n",
       "      <td>6</td>\n",
       "      <td>1</td>\n",
       "      <td>1</td>\n",
       "      <td>-0.590397</td>\n",
       "      <td>2</td>\n",
       "    </tr>\n",
       "    <tr>\n",
       "      <th>29517</th>\n",
       "      <td>0</td>\n",
       "      <td>1</td>\n",
       "      <td>0</td>\n",
       "      <td>15</td>\n",
       "      <td>0</td>\n",
       "      <td>4</td>\n",
       "      <td>22</td>\n",
       "      <td>0</td>\n",
       "      <td>0</td>\n",
       "      <td>5</td>\n",
       "      <td>0</td>\n",
       "      <td>1</td>\n",
       "      <td>932</td>\n",
       "      <td>3317</td>\n",
       "      <td>3</td>\n",
       "      <td>6</td>\n",
       "      <td>1</td>\n",
       "      <td>1</td>\n",
       "      <td>-0.486417</td>\n",
       "      <td>0</td>\n",
       "    </tr>\n",
       "    <tr>\n",
       "      <th>9100</th>\n",
       "      <td>0</td>\n",
       "      <td>1</td>\n",
       "      <td>0</td>\n",
       "      <td>15</td>\n",
       "      <td>0</td>\n",
       "      <td>4</td>\n",
       "      <td>22</td>\n",
       "      <td>0</td>\n",
       "      <td>0</td>\n",
       "      <td>5</td>\n",
       "      <td>0</td>\n",
       "      <td>1</td>\n",
       "      <td>932</td>\n",
       "      <td>8553</td>\n",
       "      <td>3</td>\n",
       "      <td>6</td>\n",
       "      <td>1</td>\n",
       "      <td>1</td>\n",
       "      <td>-1.348011</td>\n",
       "      <td>0</td>\n",
       "    </tr>\n",
       "    <tr>\n",
       "      <th>5403</th>\n",
       "      <td>21</td>\n",
       "      <td>1</td>\n",
       "      <td>0</td>\n",
       "      <td>23</td>\n",
       "      <td>0</td>\n",
       "      <td>1</td>\n",
       "      <td>22</td>\n",
       "      <td>3</td>\n",
       "      <td>2</td>\n",
       "      <td>6</td>\n",
       "      <td>1</td>\n",
       "      <td>6</td>\n",
       "      <td>932</td>\n",
       "      <td>25</td>\n",
       "      <td>3</td>\n",
       "      <td>2</td>\n",
       "      <td>0</td>\n",
       "      <td>2</td>\n",
       "      <td>-1.504024</td>\n",
       "      <td>4</td>\n",
       "    </tr>\n",
       "  </tbody>\n",
       "</table>\n",
       "</div>"
      ],
      "text/plain": [
       "       eventcode  keywords  privileges  message  sourcename  taskcategory  \\\n",
       "7870           0         1           0       15           0             4   \n",
       "27053          0         1           0       15           0             4   \n",
       "29517          0         1           0       15           0             4   \n",
       "9100           0         1           0       15           0             4   \n",
       "5403          21         1           0       23           0             1   \n",
       "\n",
       "       account_for_which_logon_failed_account_domain  \\\n",
       "7870                                              22   \n",
       "27053                                             22   \n",
       "29517                                             22   \n",
       "9100                                              22   \n",
       "5403                                              22   \n",
       "\n",
       "       detailed_authentication_information_authentication_package  \\\n",
       "7870                                                   0            \n",
       "27053                                                  0            \n",
       "29517                                                  0            \n",
       "9100                                                   0            \n",
       "5403                                                   3            \n",
       "\n",
       "       detailed_authentication_information_key_length  \\\n",
       "7870                                                0   \n",
       "27053                                               0   \n",
       "29517                                               0   \n",
       "9100                                                0   \n",
       "5403                                                2   \n",
       "\n",
       "       detailed_authentication_information_logon_process  \\\n",
       "7870                                                   5   \n",
       "27053                                                  5   \n",
       "29517                                                  5   \n",
       "9100                                                   5   \n",
       "5403                                                   6   \n",
       "\n",
       "       detailed_authentication_information_package_name_ntlm_only  logon_type  \\\n",
       "7870                                                   0                    1   \n",
       "27053                                                  0                    1   \n",
       "29517                                                  0                    1   \n",
       "9100                                                   0                    1   \n",
       "5403                                                   1                    6   \n",
       "\n",
       "       network_information_workstation_name  new_logon_security_id  \\\n",
       "7870                                    932                   7973   \n",
       "27053                                   932                     27   \n",
       "29517                                   932                   3317   \n",
       "9100                                    932                   8553   \n",
       "5403                                    932                     25   \n",
       "\n",
       "       impersonation_level  network_information_protocol  \\\n",
       "7870                     3                             6   \n",
       "27053                    2                             6   \n",
       "29517                    3                             6   \n",
       "9100                     3                             6   \n",
       "5403                     3                             2   \n",
       "\n",
       "       network_information_direction  filter_information_layer_name     cont1  \\\n",
       "7870                               1                              1 -1.399917   \n",
       "27053                              1                              1 -0.590397   \n",
       "29517                              1                              1 -0.486417   \n",
       "9100                               1                              1 -1.348011   \n",
       "5403                               0                              2 -1.504024   \n",
       "\n",
       "       label  \n",
       "7870       3  \n",
       "27053      2  \n",
       "29517      0  \n",
       "9100       0  \n",
       "5403       4  "
      ]
     },
     "execution_count": 14,
     "metadata": {},
     "output_type": "execute_result"
    }
   ],
   "source": [
    "X_train.head()"
   ]
  },
  {
   "cell_type": "code",
   "execution_count": 15,
   "metadata": {},
   "outputs": [
    {
     "data": {
      "text/plain": [
       "0    0\n",
       "1    1\n",
       "2    2\n",
       "3    3\n",
       "4    4\n",
       "5    5\n",
       "Name: label, dtype: int64"
      ]
     },
     "execution_count": 15,
     "metadata": {},
     "output_type": "execute_result"
    }
   ],
   "source": [
    "Y_train.unique()"
   ]
  },
  {
   "cell_type": "markdown",
   "metadata": {},
   "source": [
    "### Print Labels\n",
    "Making sure the test set contains all labels"
   ]
  },
  {
   "cell_type": "code",
   "execution_count": 16,
   "metadata": {},
   "outputs": [
    {
     "data": {
      "text/plain": [
       "0    0\n",
       "1    1\n",
       "2    2\n",
       "3    3\n",
       "4    4\n",
       "5    5\n",
       "Name: label, dtype: int64"
      ]
     },
     "execution_count": 16,
     "metadata": {},
     "output_type": "execute_result"
    }
   ],
   "source": [
    "Y_test.unique()"
   ]
  },
  {
   "cell_type": "markdown",
   "metadata": {},
   "source": [
    "## Training \n",
    "\n",
    "Asset Classification training uses the fastai tabular model. More details can be found at https://github.com/fastai/fastai/blob/master/fastai/tabular/models.py#L6\n",
    "\n",
    "Feature columns will be embedded so that they can be used as categorical values. The limit can be changed depending on the accuracy of the dataset."
   ]
  },
  {
   "cell_type": "markdown",
   "metadata": {},
   "source": [
    "Adam is the optimizer used in the training process; it is popular because it produces good results in various tasks. In its paper, computing the first and the second moment estimates and updating the parameters are summarized as follows"
   ]
  },
  {
   "cell_type": "markdown",
   "metadata": {},
   "source": [
    "$$\\alpha_{t}=\\alpha \\cdot \\sqrt{1-\\beta_{2}^{t}} /\\left(1-\\beta_{1}^{t}\\right)$$"
   ]
  },
  {
   "cell_type": "markdown",
   "metadata": {},
   "source": [
    "More detailson Adam can be found at https://arxiv.org/pdf/1412.6980.pdf"
   ]
  },
  {
   "cell_type": "markdown",
   "metadata": {},
   "source": [
    "We have found that the way we partition the dataframes with a 10000 batch size gives us the optimum data loading capability. The **batch_size** argument can be adjusted for different sizes of datasets."
   ]
  },
  {
   "cell_type": "code",
   "execution_count": 17,
   "metadata": {},
   "outputs": [
    {
     "name": "stdout",
     "output_type": "stream",
     "text": [
      "training loss:  1.4412893725804823\n",
      "valid loss 1.013 and accuracy 0.681\n",
      "training loss:  0.8826229579826169\n",
      "valid loss 0.721 and accuracy 0.776\n",
      "training loss:  0.6630495548287734\n",
      "valid loss 0.585 and accuracy 0.809\n",
      "training loss:  0.5469006828132204\n",
      "valid loss 0.501 and accuracy 0.839\n",
      "training loss:  0.4741744055737372\n",
      "valid loss 0.443 and accuracy 0.854\n",
      "training loss:  0.41839720255375745\n",
      "valid loss 0.393 and accuracy 0.876\n",
      "training loss:  0.37297888909244153\n",
      "valid loss 0.353 and accuracy 0.891\n",
      "training loss:  0.3381366045606495\n",
      "valid loss 0.323 and accuracy 0.897\n",
      "training loss:  0.3129910037504854\n",
      "valid loss 0.301 and accuracy 0.901\n",
      "training loss:  0.2928677238974977\n",
      "valid loss 0.284 and accuracy 0.910\n",
      "training loss:  0.27698909923279846\n",
      "valid loss 0.270 and accuracy 0.912\n",
      "training loss:  0.26460697113014503\n",
      "valid loss 0.260 and accuracy 0.916\n",
      "training loss:  0.25460253361746404\n",
      "valid loss 0.253 and accuracy 0.918\n",
      "training loss:  0.24748792358620056\n",
      "valid loss 0.247 and accuracy 0.920\n",
      "training loss:  0.24014913311032032\n",
      "valid loss 0.241 and accuracy 0.922\n"
     ]
    }
   ],
   "source": [
    "cat_cols.remove(\"label\")\n",
    "ac.train_model(X_train, cat_cols, cont_cols, \"label\", batch_size, epochs, lr=0.01, wd=0.0)"
   ]
  },
  {
   "cell_type": "markdown",
   "metadata": {},
   "source": [
    "## Evaluation"
   ]
  },
  {
   "cell_type": "code",
   "execution_count": 18,
   "metadata": {},
   "outputs": [],
   "source": [
    "pred_results = ac.predict(X_test, cat_cols, cont_cols).to_array()\n",
    "true_results = Y_test.to_array()"
   ]
  },
  {
   "cell_type": "code",
   "execution_count": 19,
   "metadata": {},
   "outputs": [
    {
     "name": "stdout",
     "output_type": "stream",
     "text": [
      "micro F1 score: 0.9137531977098307\n"
     ]
    }
   ],
   "source": [
    "f1_score_ = f1_score(pred_results, true_results, average='micro')\n",
    "print('micro F1 score: %s'%(f1_score_))"
   ]
  },
  {
   "cell_type": "code",
   "execution_count": 20,
   "metadata": {},
   "outputs": [],
   "source": [
    "torch.cuda.empty_cache()"
   ]
  },
  {
   "cell_type": "code",
   "execution_count": 21,
   "metadata": {},
   "outputs": [],
   "source": [
    "labels = [\"DC\",\"DHCP\",\"MAIL\",\"SAP\",\"SQL\",\"WEB\"]\n",
    "a = confusion_matrix(true_results, pred_results)"
   ]
  },
  {
   "cell_type": "code",
   "execution_count": 22,
   "metadata": {},
   "outputs": [
    {
     "data": {
      "text/html": [
       "<div>\n",
       "<style scoped>\n",
       "    .dataframe tbody tr th:only-of-type {\n",
       "        vertical-align: middle;\n",
       "    }\n",
       "\n",
       "    .dataframe tbody tr th {\n",
       "        vertical-align: top;\n",
       "    }\n",
       "\n",
       "    .dataframe thead th {\n",
       "        text-align: right;\n",
       "    }\n",
       "</style>\n",
       "<table border=\"1\" class=\"dataframe\">\n",
       "  <thead>\n",
       "    <tr style=\"text-align: right;\">\n",
       "      <th></th>\n",
       "      <th>DC</th>\n",
       "      <th>DHCP</th>\n",
       "      <th>MAIL</th>\n",
       "      <th>SAP</th>\n",
       "      <th>SQL</th>\n",
       "      <th>WEB</th>\n",
       "    </tr>\n",
       "  </thead>\n",
       "  <tbody>\n",
       "    <tr>\n",
       "      <th>DC</th>\n",
       "      <td>3457</td>\n",
       "      <td>25</td>\n",
       "      <td>8</td>\n",
       "      <td>5</td>\n",
       "      <td>87</td>\n",
       "      <td>11</td>\n",
       "    </tr>\n",
       "    <tr>\n",
       "      <th>DHCP</th>\n",
       "      <td>105</td>\n",
       "      <td>642</td>\n",
       "      <td>1</td>\n",
       "      <td>0</td>\n",
       "      <td>16</td>\n",
       "      <td>0</td>\n",
       "    </tr>\n",
       "    <tr>\n",
       "      <th>MAIL</th>\n",
       "      <td>12</td>\n",
       "      <td>0</td>\n",
       "      <td>2619</td>\n",
       "      <td>9</td>\n",
       "      <td>13</td>\n",
       "      <td>0</td>\n",
       "    </tr>\n",
       "    <tr>\n",
       "      <th>SAP</th>\n",
       "      <td>38</td>\n",
       "      <td>0</td>\n",
       "      <td>11</td>\n",
       "      <td>148</td>\n",
       "      <td>2</td>\n",
       "      <td>0</td>\n",
       "    </tr>\n",
       "    <tr>\n",
       "      <th>SQL</th>\n",
       "      <td>222</td>\n",
       "      <td>0</td>\n",
       "      <td>11</td>\n",
       "      <td>7</td>\n",
       "      <td>600</td>\n",
       "      <td>36</td>\n",
       "    </tr>\n",
       "    <tr>\n",
       "      <th>WEB</th>\n",
       "      <td>38</td>\n",
       "      <td>0</td>\n",
       "      <td>0</td>\n",
       "      <td>1</td>\n",
       "      <td>50</td>\n",
       "      <td>35</td>\n",
       "    </tr>\n",
       "  </tbody>\n",
       "</table>\n",
       "</div>"
      ],
      "text/plain": [
       "        DC  DHCP  MAIL  SAP  SQL  WEB\n",
       "DC    3457    25     8    5   87   11\n",
       "DHCP   105   642     1    0   16    0\n",
       "MAIL    12     0  2619    9   13    0\n",
       "SAP     38     0    11  148    2    0\n",
       "SQL    222     0    11    7  600   36\n",
       "WEB     38     0     0    1   50   35"
      ]
     },
     "execution_count": 22,
     "metadata": {},
     "output_type": "execute_result"
    }
   ],
   "source": [
    "pd.DataFrame(a, index=labels, columns=labels)"
   ]
  },
  {
   "cell_type": "markdown",
   "metadata": {},
   "source": [
    "The confusion matrix shows that some machines' function can be predicted really well, whereas some of them need more tuning or more features. This work can be improved and expanded to cover individual data-centres to create a realistic map of the network using ML by not just relying on the naming conventions. It could also help to detect more prominent scale anomalies like multiple machines, not acting per their tag."
   ]
  },
  {
   "cell_type": "markdown",
   "metadata": {},
   "source": [
    "## References:\n",
    "* https://github.com/fastai/fastai/blob/master/fastai/tabular/models.py#L6\n",
    "* https://jovian.ml/aakashns/04-feedforward-nn\n",
    "* https://www.kaggle.com/dienhoa/reverse-tabular-module-of-fast-ai-v1\n",
    "* https://github.com/fastai/fastai/blob/master/fastai/layers.py#L44"
   ]
  }
 ],
 "metadata": {
  "kernelspec": {
   "display_name": "Python 3",
   "language": "python",
   "name": "python3"
  },
  "language_info": {
   "codemirror_mode": {
    "name": "ipython",
    "version": 3
   },
   "file_extension": ".py",
   "mimetype": "text/x-python",
   "name": "python",
   "nbconvert_exporter": "python",
   "pygments_lexer": "ipython3",
   "version": "3.7.10"
  }
 },
 "nbformat": 4,
 "nbformat_minor": 4
}
